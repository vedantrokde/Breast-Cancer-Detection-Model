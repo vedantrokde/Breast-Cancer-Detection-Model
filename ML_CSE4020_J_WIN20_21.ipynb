{
  "nbformat": 4,
  "nbformat_minor": 0,
  "metadata": {
    "colab": {
      "name": "ML-CSE4020-J-WIN20-21",
      "provenance": [],
      "toc_visible": true,
      "mount_file_id": "1A1-Fznr0Oc_0XPxnxv0xzAF2x_0qQAsk",
      "authorship_tag": "ABX9TyMgIo4XH9AcqAtk8ARhr9XA",
      "include_colab_link": true
    },
    "kernelspec": {
      "name": "python3",
      "display_name": "Python 3"
    }
  },
  "cells": [
    {
      "cell_type": "markdown",
      "metadata": {
        "id": "view-in-github",
        "colab_type": "text"
      },
      "source": [
        "<a href=\"https://colab.research.google.com/github/vedantrokde/Breast-Cancer-Detection-Model/blob/master/ML_CSE4020_J_WIN20_21.ipynb\" target=\"_parent\"><img src=\"https://colab.research.google.com/assets/colab-badge.svg\" alt=\"Open In Colab\"/></a>"
      ]
    },
    {
      "cell_type": "markdown",
      "metadata": {
        "id": "uS0yK6bYIvgZ"
      },
      "source": [
        "# Fire Detection System\r\n",
        "\r\n",
        "```\r\n",
        "      * WIN SEM 2020-21\r\n",
        "      * J component\r\n",
        "      * Course Code : CSE4020\r\n",
        "      * Course Title : Machine Learning\r\n",
        "```\r\n"
      ]
    },
    {
      "cell_type": "markdown",
      "metadata": {
        "id": "57pu7SQ3JzFG"
      },
      "source": [
        "### Setting up Environment"
      ]
    },
    {
      "cell_type": "code",
      "metadata": {
        "id": "ZRHb0icaJ17e",
        "colab": {
          "base_uri": "https://localhost:8080/"
        },
        "outputId": "bbf4d017-999d-4be6-fa49-536f3582ad84"
      },
      "source": [
        "%cd \"/content/drive/Shareddrives/Drive Space/Fire Detection - ML\""
      ],
      "execution_count": null,
      "outputs": [
        {
          "output_type": "stream",
          "text": [
            "/content/drive/Shareddrives/Drive Space/Fire Detection - ML\n"
          ],
          "name": "stdout"
        }
      ]
    },
    {
      "cell_type": "code",
      "metadata": {
        "id": "cB0m5zjV0jwa"
      },
      "source": [
        ""
      ],
      "execution_count": null,
      "outputs": []
    },
    {
      "cell_type": "code",
      "metadata": {
        "id": "qYILLt-MJ2kY"
      },
      "source": [
        ""
      ],
      "execution_count": null,
      "outputs": []
    },
    {
      "cell_type": "markdown",
      "metadata": {
        "id": "7SEIQ0tTJZtO"
      },
      "source": [
        "## Data Exploration"
      ]
    },
    {
      "cell_type": "code",
      "metadata": {
        "id": "UhhxyPaqJwEO"
      },
      "source": [
        "%%capture\r\n",
        "# https://zenodo.org/record/836749#__sid=js0\r\n",
        "!cd 'DATA/data0' && wget https://zenodo.org/record/836749/files/fire_videos.1406.zip?download=1 \r\n",
        "!cd 'DATA/data0' && wget https://zenodo.org/record/836749/files/smoke_videos.1407.zip?download=1"
      ],
      "execution_count": null,
      "outputs": []
    },
    {
      "cell_type": "code",
      "metadata": {
        "id": "5sStdAeXJv_g"
      },
      "source": [
        "%%capture\r\n",
        "# https://github.com/cair/Fire-Detection-Image-Dataset.git\r\n",
        "!cd 'DATA/data1' && git clone https://github.com/cair/Fire-Detection-Image-Dataset.git"
      ],
      "execution_count": null,
      "outputs": []
    },
    {
      "cell_type": "code",
      "metadata": {
        "id": "y-vp0Ga8Jv2c"
      },
      "source": [
        "%%capture\r\n",
        "# https://github.com/jackfrost1411/fire-detection.git\r\n",
        "!cd 'DATA/data2' && git clone https://github.com/jackfrost1411/fire-detection.git"
      ],
      "execution_count": null,
      "outputs": []
    },
    {
      "cell_type": "code",
      "metadata": {
        "id": "MSV_fCUf7Dzw"
      },
      "source": [
        ""
      ],
      "execution_count": null,
      "outputs": []
    },
    {
      "cell_type": "markdown",
      "metadata": {
        "id": "8LFEQd6-JZmj"
      },
      "source": [
        "## Data Preprocessing"
      ]
    },
    {
      "cell_type": "code",
      "metadata": {
        "id": "etjl8-f0JxLD"
      },
      "source": [
        ""
      ],
      "execution_count": null,
      "outputs": []
    },
    {
      "cell_type": "code",
      "metadata": {
        "id": "F1qbYta_JxAD"
      },
      "source": [
        ""
      ],
      "execution_count": null,
      "outputs": []
    },
    {
      "cell_type": "code",
      "metadata": {
        "id": "Us1a9NgjJw4x"
      },
      "source": [
        ""
      ],
      "execution_count": null,
      "outputs": []
    },
    {
      "cell_type": "code",
      "metadata": {
        "id": "_CxmcHjHJw0H"
      },
      "source": [
        ""
      ],
      "execution_count": null,
      "outputs": []
    },
    {
      "cell_type": "code",
      "metadata": {
        "id": "d6Z83R0eJwvq"
      },
      "source": [
        ""
      ],
      "execution_count": null,
      "outputs": []
    },
    {
      "cell_type": "markdown",
      "metadata": {
        "id": "uLAADi0sJZez"
      },
      "source": [
        "## Data Visualization"
      ]
    },
    {
      "cell_type": "code",
      "metadata": {
        "id": "uBFO54_OJyH-"
      },
      "source": [
        ""
      ],
      "execution_count": null,
      "outputs": []
    },
    {
      "cell_type": "code",
      "metadata": {
        "id": "zG4ohQZ1JyDj"
      },
      "source": [
        ""
      ],
      "execution_count": null,
      "outputs": []
    },
    {
      "cell_type": "code",
      "metadata": {
        "id": "_fyI7_B0Jx_L"
      },
      "source": [
        ""
      ],
      "execution_count": null,
      "outputs": []
    },
    {
      "cell_type": "code",
      "metadata": {
        "id": "yzl6-MSKJx6A"
      },
      "source": [
        ""
      ],
      "execution_count": null,
      "outputs": []
    },
    {
      "cell_type": "code",
      "metadata": {
        "id": "wOUPeNZEJx1D"
      },
      "source": [
        ""
      ],
      "execution_count": null,
      "outputs": []
    },
    {
      "cell_type": "markdown",
      "metadata": {
        "id": "FO5tVjxeJtpC"
      },
      "source": [
        "## Model Building"
      ]
    },
    {
      "cell_type": "code",
      "metadata": {
        "id": "jsiqe32KIU8Y"
      },
      "source": [
        ""
      ],
      "execution_count": null,
      "outputs": []
    },
    {
      "cell_type": "code",
      "metadata": {
        "id": "_IH914OJZ7s5"
      },
      "source": [
        ""
      ],
      "execution_count": null,
      "outputs": []
    },
    {
      "cell_type": "code",
      "metadata": {
        "id": "4kGeZTSFKBgD"
      },
      "source": [
        ""
      ],
      "execution_count": null,
      "outputs": []
    },
    {
      "cell_type": "code",
      "metadata": {
        "id": "fIAk35z7KCAj"
      },
      "source": [
        ""
      ],
      "execution_count": null,
      "outputs": []
    },
    {
      "cell_type": "code",
      "metadata": {
        "id": "7nhR36VkKB8d"
      },
      "source": [
        ""
      ],
      "execution_count": null,
      "outputs": []
    },
    {
      "cell_type": "markdown",
      "metadata": {
        "id": "BcKF2efZKCzy"
      },
      "source": [
        "## Hyperparameter Tuning and Model Optimization"
      ]
    },
    {
      "cell_type": "code",
      "metadata": {
        "id": "ohopU8HQKNSW"
      },
      "source": [
        ""
      ],
      "execution_count": null,
      "outputs": []
    },
    {
      "cell_type": "code",
      "metadata": {
        "id": "A8uZYkvDKNNy"
      },
      "source": [
        ""
      ],
      "execution_count": null,
      "outputs": []
    },
    {
      "cell_type": "code",
      "metadata": {
        "id": "8C2nT4JTKNJT"
      },
      "source": [
        ""
      ],
      "execution_count": null,
      "outputs": []
    },
    {
      "cell_type": "code",
      "metadata": {
        "id": "3TGzywQdKNDz"
      },
      "source": [
        ""
      ],
      "execution_count": null,
      "outputs": []
    },
    {
      "cell_type": "code",
      "metadata": {
        "id": "HY8l3AFdKM_d"
      },
      "source": [
        ""
      ],
      "execution_count": null,
      "outputs": []
    },
    {
      "cell_type": "markdown",
      "metadata": {
        "id": "JcJ_LeeDJ5th"
      },
      "source": [
        "## Results / Conclusion"
      ]
    },
    {
      "cell_type": "code",
      "metadata": {
        "id": "BM4RCMIAJ8Zt"
      },
      "source": [
        ""
      ],
      "execution_count": null,
      "outputs": []
    }
  ]
}